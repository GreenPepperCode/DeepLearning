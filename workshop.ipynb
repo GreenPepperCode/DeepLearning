{
 "cells": [
  {
   "cell_type": "code",
   "execution_count": 19,
   "metadata": {},
   "outputs": [
    {
     "name": "stdout",
     "output_type": "stream",
     "text": [
      "  collision_index  collision_year collision_reference  vehicle_reference  \\\n",
      "0   2023010419171            2023           010419171                  1   \n",
      "1   2023010419183            2023           010419183                  2   \n",
      "2   2023010419183            2023           010419183                  3   \n",
      "3   2023010419189            2023           010419189                  1   \n",
      "4   2023010419191            2023           010419191                  2   \n",
      "\n",
      "   casualty_reference  casualty_class  sex_of_casualty  age_of_casualty  \\\n",
      "0                   1               3                2               20   \n",
      "1                   1               1                1               25   \n",
      "2                   2               2                2               38   \n",
      "3                   1               1                1               50   \n",
      "4                   1               1                1               34   \n",
      "\n",
      "   age_band_of_casualty  casualty_severity  pedestrian_location  \\\n",
      "0                     4                  3                    5   \n",
      "1                     5                  3                    0   \n",
      "2                     7                  3                    0   \n",
      "3                     8                  3                    0   \n",
      "4                     6                  3                    0   \n",
      "\n",
      "   pedestrian_movement  car_passenger  bus_or_coach_passenger  \\\n",
      "0                    1              0                       0   \n",
      "1                    0              0                       0   \n",
      "2                    0              2                       0   \n",
      "3                    0              0                       0   \n",
      "4                    0              0                       0   \n",
      "\n",
      "   pedestrian_road_maintenance_worker  casualty_type  casualty_home_area_type  \\\n",
      "0                                   0              0                        1   \n",
      "1                                   0              9                        1   \n",
      "2                                   0              9                       -1   \n",
      "3                                   0              9                        1   \n",
      "4                                   0              1                        1   \n",
      "\n",
      "   casualty_imd_decile lsoa_of_casualty  \n",
      "0                   10        E01030370  \n",
      "1                    3        E01001546  \n",
      "2                   -1               -1  \n",
      "3                    5        E01002443  \n",
      "4                    2        E01004679  \n",
      "       collision_year  vehicle_reference  casualty_reference  casualty_class  \\\n",
      "count         62674.0       62674.000000        62674.000000    62674.000000   \n",
      "mean           2023.0           1.467562            1.374972        1.491177   \n",
      "std               0.0           4.849047            1.551044        0.737688   \n",
      "min            2023.0           1.000000            1.000000        1.000000   \n",
      "25%            2023.0           1.000000            1.000000        1.000000   \n",
      "50%            2023.0           1.000000            1.000000        1.000000   \n",
      "75%            2023.0           2.000000            1.000000        2.000000   \n",
      "max            2023.0         992.000000           70.000000        3.000000   \n",
      "\n",
      "       sex_of_casualty  age_of_casualty  age_band_of_casualty  \\\n",
      "count     62674.000000     62674.000000          62674.000000   \n",
      "mean          1.358107        36.953697              6.315410   \n",
      "std           0.548781        19.805649              2.491679   \n",
      "min          -1.000000        -1.000000             -1.000000   \n",
      "25%           1.000000        22.000000              5.000000   \n",
      "50%           1.000000        34.000000              6.000000   \n",
      "75%           2.000000        51.000000              8.000000   \n",
      "max           9.000000       102.000000             11.000000   \n",
      "\n",
      "       casualty_severity  pedestrian_location  pedestrian_movement  \\\n",
      "count       62674.000000         62674.000000         62674.000000   \n",
      "mean            2.785046             0.808709             0.663369   \n",
      "std             0.438231             2.208673             2.041672   \n",
      "min             1.000000            -1.000000             0.000000   \n",
      "25%             3.000000             0.000000             0.000000   \n",
      "50%             3.000000             0.000000             0.000000   \n",
      "75%             3.000000             0.000000             0.000000   \n",
      "max             3.000000            10.000000             9.000000   \n",
      "\n",
      "       car_passenger  bus_or_coach_passenger  \\\n",
      "count   62674.000000            62674.000000   \n",
      "mean        0.224623                0.062338   \n",
      "std         0.620338                0.484295   \n",
      "min        -1.000000               -1.000000   \n",
      "25%         0.000000                0.000000   \n",
      "50%         0.000000                0.000000   \n",
      "75%         0.000000                0.000000   \n",
      "max         9.000000                9.000000   \n",
      "\n",
      "       pedestrian_road_maintenance_worker  casualty_type  \\\n",
      "count                        62674.000000   62674.000000   \n",
      "mean                             0.037208       9.507643   \n",
      "std                              0.284849      16.671019   \n",
      "min                             -1.000000      -1.000000   \n",
      "25%                              0.000000       1.000000   \n",
      "50%                              0.000000       9.000000   \n",
      "75%                              0.000000       9.000000   \n",
      "max                              2.000000      98.000000   \n",
      "\n",
      "       casualty_home_area_type  casualty_imd_decile  \n",
      "count             62674.000000         62674.000000  \n",
      "mean                  1.049925             4.259980  \n",
      "std                   0.932578             3.221955  \n",
      "min                  -1.000000            -1.000000  \n",
      "25%                   1.000000             2.000000  \n",
      "50%                   1.000000             4.000000  \n",
      "75%                   1.000000             7.000000  \n",
      "max                   3.000000            10.000000  \n",
      "<class 'pandas.core.frame.DataFrame'>\n",
      "RangeIndex: 62674 entries, 0 to 62673\n",
      "Data columns (total 19 columns):\n",
      " #   Column                              Non-Null Count  Dtype \n",
      "---  ------                              --------------  ----- \n",
      " 0   collision_index                     62674 non-null  object\n",
      " 1   collision_year                      62674 non-null  int64 \n",
      " 2   collision_reference                 62674 non-null  object\n",
      " 3   vehicle_reference                   62674 non-null  int64 \n",
      " 4   casualty_reference                  62674 non-null  int64 \n",
      " 5   casualty_class                      62674 non-null  int64 \n",
      " 6   sex_of_casualty                     62674 non-null  int64 \n",
      " 7   age_of_casualty                     62674 non-null  int64 \n",
      " 8   age_band_of_casualty                62674 non-null  int64 \n",
      " 9   casualty_severity                   62674 non-null  int64 \n",
      " 10  pedestrian_location                 62674 non-null  int64 \n",
      " 11  pedestrian_movement                 62674 non-null  int64 \n",
      " 12  car_passenger                       62674 non-null  int64 \n",
      " 13  bus_or_coach_passenger              62674 non-null  int64 \n",
      " 14  pedestrian_road_maintenance_worker  62674 non-null  int64 \n",
      " 15  casualty_type                       62674 non-null  int64 \n",
      " 16  casualty_home_area_type             62674 non-null  int64 \n",
      " 17  casualty_imd_decile                 62674 non-null  int64 \n",
      " 18  lsoa_of_casualty                    62674 non-null  object\n",
      "dtypes: int64(16), object(3)\n",
      "memory usage: 9.1+ MB\n",
      "None\n"
     ]
    }
   ],
   "source": [
    "import pandas as pd\n",
    "\n",
    "# Charger le fichier CSV\n",
    "df = pd.read_csv('dft-road-casualty-statistics-casualty-provisional-mid-year-unvalidated-2023.csv')\n",
    "\n",
    "# Afficher les premières lignes du DataFrame pour comprendre sa structure\n",
    "print(df.head())\n",
    "\n",
    "# Obtenir des statistiques descriptives\n",
    "print(df.describe())\n",
    "\n",
    "# Vérifier les types de données et les valeurs manquantes\n",
    "print(df.info())\n"
   ]
  },
  {
   "cell_type": "code",
   "execution_count": 20,
   "metadata": {},
   "outputs": [],
   "source": [
    "# Remplacer les valeurs -1 par NaN pour les traiter comme des valeurs manquantes\n",
    "import numpy as np\n",
    "df.replace(-1, np.nan, inplace=True)\n",
    "\n",
    "# Vous pouvez choisir de les imputer ou de supprimer les lignes/colonnes avec des valeurs manquantes\n",
    "# Par exemple, pour supprimer les lignes avec des valeurs manquantes :\n",
    "df_clean = df.dropna()\n",
    "\n",
    "# Encodage des variables catégorielles (si nécessaire)\n",
    "df_encoded = pd.get_dummies(df_clean, columns=['sex_of_casualty', 'casualty_class', 'casualty_severity'], drop_first=True)\n"
   ]
  },
  {
   "cell_type": "code",
   "execution_count": 21,
   "metadata": {},
   "outputs": [],
   "source": [
    "X = df_encoded.drop('casualty_severity_2', axis=1)  # Supposons que casualty_severity_2 est notre cible après encodage\n",
    "y = df_encoded['casualty_severity_2']\n"
   ]
  },
  {
   "cell_type": "code",
   "execution_count": 22,
   "metadata": {},
   "outputs": [],
   "source": [
    "from sklearn.model_selection import train_test_split\n",
    "\n",
    "X_train, X_test, y_train, y_test = train_test_split(X, y, test_size=0.3, random_state=42)\n"
   ]
  },
  {
   "cell_type": "code",
   "execution_count": 23,
   "metadata": {},
   "outputs": [],
   "source": [
    "# Identifier les colonnes numériques\n",
    "num_cols = df_clean.select_dtypes(include=['int64', 'float64']).columns\n",
    "\n",
    "# Supposons que 'casualty_severity' est ta colonne cible\n",
    "# Assure-toi de ne pas inclure la colonne cible dans X si elle est numérique\n",
    "num_cols = num_cols.drop('casualty_severity')\n",
    "\n",
    "X = df_clean[num_cols]\n",
    "\n",
    "# Supposons que y est ta colonne cible\n",
    "y = df_clean['casualty_severity']\n"
   ]
  },
  {
   "cell_type": "code",
   "execution_count": 24,
   "metadata": {},
   "outputs": [],
   "source": [
    "columns_to_drop = ['collision_index', 'collision_reference', 'lsoa_of_casualty']\n",
    "\n",
    "X_train = X_train.drop(columns=columns_to_drop)\n",
    "X_test = X_test.drop(columns=columns_to_drop)\n"
   ]
  },
  {
   "cell_type": "code",
   "execution_count": 25,
   "metadata": {},
   "outputs": [],
   "source": [
    "from sklearn.preprocessing import MinMaxScaler\n",
    "\n",
    "scaler = MinMaxScaler()\n",
    "X_train_scaled = scaler.fit_transform(X_train)\n",
    "X_test_scaled = scaler.transform(X_test)\n"
   ]
  },
  {
   "cell_type": "code",
   "execution_count": 26,
   "metadata": {},
   "outputs": [
    {
     "name": "stdout",
     "output_type": "stream",
     "text": [
      "Epoch 1/50\n"
     ]
    },
    {
     "name": "stderr",
     "output_type": "stream",
     "text": [
      "C:\\Users\\zaebo\\AppData\\Roaming\\Python\\Python312\\site-packages\\keras\\src\\layers\\core\\dense.py:88: UserWarning: Do not pass an `input_shape`/`input_dim` argument to a layer. When using Sequential models, prefer using an `Input(shape)` object as the first layer in the model instead.\n",
      "  super().__init__(activity_regularizer=activity_regularizer, **kwargs)\n"
     ]
    },
    {
     "name": "stdout",
     "output_type": "stream",
     "text": [
      "\u001b[1m3035/3035\u001b[0m \u001b[32m━━━━━━━━━━━━━━━━━━━━\u001b[0m\u001b[37m\u001b[0m \u001b[1m2s\u001b[0m 425us/step - accuracy: 0.9224 - loss: 0.1918 - val_accuracy: 0.9887 - val_loss: 0.0445\n",
      "Epoch 2/50\n",
      "\u001b[1m3035/3035\u001b[0m \u001b[32m━━━━━━━━━━━━━━━━━━━━\u001b[0m\u001b[37m\u001b[0m \u001b[1m1s\u001b[0m 393us/step - accuracy: 0.9887 - loss: 0.0438 - val_accuracy: 0.9887 - val_loss: 0.0433\n",
      "Epoch 3/50\n",
      "\u001b[1m3035/3035\u001b[0m \u001b[32m━━━━━━━━━━━━━━━━━━━━\u001b[0m\u001b[37m\u001b[0m \u001b[1m1s\u001b[0m 397us/step - accuracy: 0.9881 - loss: 0.0450 - val_accuracy: 0.9887 - val_loss: 0.0458\n",
      "Epoch 4/50\n",
      "\u001b[1m3035/3035\u001b[0m \u001b[32m━━━━━━━━━━━━━━━━━━━━\u001b[0m\u001b[37m\u001b[0m \u001b[1m1s\u001b[0m 391us/step - accuracy: 0.9889 - loss: 0.0433 - val_accuracy: 0.9887 - val_loss: 0.0434\n",
      "Epoch 5/50\n",
      "\u001b[1m3035/3035\u001b[0m \u001b[32m━━━━━━━━━━━━━━━━━━━━\u001b[0m\u001b[37m\u001b[0m \u001b[1m1s\u001b[0m 398us/step - accuracy: 0.9893 - loss: 0.0411 - val_accuracy: 0.9887 - val_loss: 0.0447\n",
      "Epoch 6/50\n",
      "\u001b[1m3035/3035\u001b[0m \u001b[32m━━━━━━━━━━━━━━━━━━━━\u001b[0m\u001b[37m\u001b[0m \u001b[1m1s\u001b[0m 393us/step - accuracy: 0.9897 - loss: 0.0401 - val_accuracy: 0.9887 - val_loss: 0.0436\n",
      "Epoch 7/50\n",
      "\u001b[1m3035/3035\u001b[0m \u001b[32m━━━━━━━━━━━━━━━━━━━━\u001b[0m\u001b[37m\u001b[0m \u001b[1m1s\u001b[0m 392us/step - accuracy: 0.9891 - loss: 0.0418 - val_accuracy: 0.9887 - val_loss: 0.0439\n",
      "Epoch 8/50\n",
      "\u001b[1m3035/3035\u001b[0m \u001b[32m━━━━━━━━━━━━━━━━━━━━\u001b[0m\u001b[37m\u001b[0m \u001b[1m1s\u001b[0m 393us/step - accuracy: 0.9893 - loss: 0.0409 - val_accuracy: 0.9887 - val_loss: 0.0432\n",
      "Epoch 9/50\n",
      "\u001b[1m3035/3035\u001b[0m \u001b[32m━━━━━━━━━━━━━━━━━━━━\u001b[0m\u001b[37m\u001b[0m \u001b[1m1s\u001b[0m 391us/step - accuracy: 0.9891 - loss: 0.0415 - val_accuracy: 0.9887 - val_loss: 0.0439\n",
      "Epoch 10/50\n",
      "\u001b[1m3035/3035\u001b[0m \u001b[32m━━━━━━━━━━━━━━━━━━━━\u001b[0m\u001b[37m\u001b[0m \u001b[1m1s\u001b[0m 394us/step - accuracy: 0.9886 - loss: 0.0425 - val_accuracy: 0.9887 - val_loss: 0.0437\n",
      "Epoch 11/50\n",
      "\u001b[1m3035/3035\u001b[0m \u001b[32m━━━━━━━━━━━━━━━━━━━━\u001b[0m\u001b[37m\u001b[0m \u001b[1m1s\u001b[0m 393us/step - accuracy: 0.9898 - loss: 0.0394 - val_accuracy: 0.9887 - val_loss: 0.0438\n",
      "Epoch 12/50\n",
      "\u001b[1m3035/3035\u001b[0m \u001b[32m━━━━━━━━━━━━━━━━━━━━\u001b[0m\u001b[37m\u001b[0m \u001b[1m1s\u001b[0m 394us/step - accuracy: 0.9899 - loss: 0.0395 - val_accuracy: 0.9887 - val_loss: 0.0429\n",
      "Epoch 13/50\n",
      "\u001b[1m3035/3035\u001b[0m \u001b[32m━━━━━━━━━━━━━━━━━━━━\u001b[0m\u001b[37m\u001b[0m \u001b[1m1s\u001b[0m 396us/step - accuracy: 0.9887 - loss: 0.0419 - val_accuracy: 0.9887 - val_loss: 0.0433\n",
      "Epoch 14/50\n",
      "\u001b[1m3035/3035\u001b[0m \u001b[32m━━━━━━━━━━━━━━━━━━━━\u001b[0m\u001b[37m\u001b[0m \u001b[1m1s\u001b[0m 393us/step - accuracy: 0.9899 - loss: 0.0391 - val_accuracy: 0.9887 - val_loss: 0.0431\n",
      "Epoch 15/50\n",
      "\u001b[1m3035/3035\u001b[0m \u001b[32m━━━━━━━━━━━━━━━━━━━━\u001b[0m\u001b[37m\u001b[0m \u001b[1m1s\u001b[0m 388us/step - accuracy: 0.9883 - loss: 0.0441 - val_accuracy: 0.9887 - val_loss: 0.0429\n",
      "Epoch 16/50\n",
      "\u001b[1m3035/3035\u001b[0m \u001b[32m━━━━━━━━━━━━━━━━━━━━\u001b[0m\u001b[37m\u001b[0m \u001b[1m1s\u001b[0m 394us/step - accuracy: 0.9895 - loss: 0.0398 - val_accuracy: 0.9887 - val_loss: 0.0433\n",
      "Epoch 17/50\n",
      "\u001b[1m3035/3035\u001b[0m \u001b[32m━━━━━━━━━━━━━━━━━━━━\u001b[0m\u001b[37m\u001b[0m \u001b[1m1s\u001b[0m 390us/step - accuracy: 0.9890 - loss: 0.0414 - val_accuracy: 0.9887 - val_loss: 0.0432\n",
      "Epoch 18/50\n",
      "\u001b[1m3035/3035\u001b[0m \u001b[32m━━━━━━━━━━━━━━━━━━━━\u001b[0m\u001b[37m\u001b[0m \u001b[1m1s\u001b[0m 386us/step - accuracy: 0.9906 - loss: 0.0366 - val_accuracy: 0.9887 - val_loss: 0.0425\n",
      "Epoch 19/50\n",
      "\u001b[1m3035/3035\u001b[0m \u001b[32m━━━━━━━━━━━━━━━━━━━━\u001b[0m\u001b[37m\u001b[0m \u001b[1m1s\u001b[0m 388us/step - accuracy: 0.9896 - loss: 0.0390 - val_accuracy: 0.9887 - val_loss: 0.0426\n",
      "Epoch 20/50\n",
      "\u001b[1m3035/3035\u001b[0m \u001b[32m━━━━━━━━━━━━━━━━━━━━\u001b[0m\u001b[37m\u001b[0m \u001b[1m1s\u001b[0m 392us/step - accuracy: 0.9890 - loss: 0.0414 - val_accuracy: 0.9887 - val_loss: 0.0428\n",
      "Epoch 21/50\n",
      "\u001b[1m3035/3035\u001b[0m \u001b[32m━━━━━━━━━━━━━━━━━━━━\u001b[0m\u001b[37m\u001b[0m \u001b[1m1s\u001b[0m 391us/step - accuracy: 0.9881 - loss: 0.0438 - val_accuracy: 0.9887 - val_loss: 0.0446\n",
      "Epoch 22/50\n",
      "\u001b[1m3035/3035\u001b[0m \u001b[32m━━━━━━━━━━━━━━━━━━━━\u001b[0m\u001b[37m\u001b[0m \u001b[1m1s\u001b[0m 401us/step - accuracy: 0.9890 - loss: 0.0405 - val_accuracy: 0.9887 - val_loss: 0.0423\n",
      "Epoch 23/50\n",
      "\u001b[1m3035/3035\u001b[0m \u001b[32m━━━━━━━━━━━━━━━━━━━━\u001b[0m\u001b[37m\u001b[0m \u001b[1m1s\u001b[0m 390us/step - accuracy: 0.9895 - loss: 0.0395 - val_accuracy: 0.9887 - val_loss: 0.0423\n",
      "Epoch 24/50\n",
      "\u001b[1m3035/3035\u001b[0m \u001b[32m━━━━━━━━━━━━━━━━━━━━\u001b[0m\u001b[37m\u001b[0m \u001b[1m1s\u001b[0m 390us/step - accuracy: 0.9897 - loss: 0.0393 - val_accuracy: 0.9887 - val_loss: 0.0427\n",
      "Epoch 25/50\n",
      "\u001b[1m3035/3035\u001b[0m \u001b[32m━━━━━━━━━━━━━━━━━━━━\u001b[0m\u001b[37m\u001b[0m \u001b[1m1s\u001b[0m 384us/step - accuracy: 0.9902 - loss: 0.0376 - val_accuracy: 0.9887 - val_loss: 0.0429\n",
      "Epoch 26/50\n",
      "\u001b[1m3035/3035\u001b[0m \u001b[32m━━━━━━━━━━━━━━━━━━━━\u001b[0m\u001b[37m\u001b[0m \u001b[1m1s\u001b[0m 389us/step - accuracy: 0.9903 - loss: 0.0371 - val_accuracy: 0.9887 - val_loss: 0.0426\n",
      "Epoch 27/50\n",
      "\u001b[1m3035/3035\u001b[0m \u001b[32m━━━━━━━━━━━━━━━━━━━━\u001b[0m\u001b[37m\u001b[0m \u001b[1m1s\u001b[0m 395us/step - accuracy: 0.9895 - loss: 0.0394 - val_accuracy: 0.9887 - val_loss: 0.0423\n",
      "Epoch 28/50\n",
      "\u001b[1m3035/3035\u001b[0m \u001b[32m━━━━━━━━━━━━━━━━━━━━\u001b[0m\u001b[37m\u001b[0m \u001b[1m1s\u001b[0m 392us/step - accuracy: 0.9899 - loss: 0.0388 - val_accuracy: 0.9887 - val_loss: 0.0424\n",
      "Epoch 29/50\n",
      "\u001b[1m3035/3035\u001b[0m \u001b[32m━━━━━━━━━━━━━━━━━━━━\u001b[0m\u001b[37m\u001b[0m \u001b[1m1s\u001b[0m 388us/step - accuracy: 0.9892 - loss: 0.0405 - val_accuracy: 0.9887 - val_loss: 0.0424\n",
      "Epoch 30/50\n",
      "\u001b[1m3035/3035\u001b[0m \u001b[32m━━━━━━━━━━━━━━━━━━━━\u001b[0m\u001b[37m\u001b[0m \u001b[1m1s\u001b[0m 402us/step - accuracy: 0.9895 - loss: 0.0392 - val_accuracy: 0.9887 - val_loss: 0.0434\n",
      "Epoch 31/50\n",
      "\u001b[1m3035/3035\u001b[0m \u001b[32m━━━━━━━━━━━━━━━━━━━━\u001b[0m\u001b[37m\u001b[0m \u001b[1m1s\u001b[0m 386us/step - accuracy: 0.9901 - loss: 0.0377 - val_accuracy: 0.9887 - val_loss: 0.0422\n",
      "Epoch 32/50\n",
      "\u001b[1m3035/3035\u001b[0m \u001b[32m━━━━━━━━━━━━━━━━━━━━\u001b[0m\u001b[37m\u001b[0m \u001b[1m1s\u001b[0m 386us/step - accuracy: 0.9885 - loss: 0.0412 - val_accuracy: 0.9887 - val_loss: 0.0425\n",
      "Epoch 33/50\n",
      "\u001b[1m3035/3035\u001b[0m \u001b[32m━━━━━━━━━━━━━━━━━━━━\u001b[0m\u001b[37m\u001b[0m \u001b[1m1s\u001b[0m 410us/step - accuracy: 0.9898 - loss: 0.0386 - val_accuracy: 0.9887 - val_loss: 0.0431\n",
      "Epoch 34/50\n",
      "\u001b[1m3035/3035\u001b[0m \u001b[32m━━━━━━━━━━━━━━━━━━━━\u001b[0m\u001b[37m\u001b[0m \u001b[1m1s\u001b[0m 398us/step - accuracy: 0.9898 - loss: 0.0383 - val_accuracy: 0.9887 - val_loss: 0.0423\n",
      "Epoch 35/50\n",
      "\u001b[1m3035/3035\u001b[0m \u001b[32m━━━━━━━━━━━━━━━━━━━━\u001b[0m\u001b[37m\u001b[0m \u001b[1m1s\u001b[0m 395us/step - accuracy: 0.9892 - loss: 0.0392 - val_accuracy: 0.9887 - val_loss: 0.0425\n",
      "Epoch 36/50\n",
      "\u001b[1m3035/3035\u001b[0m \u001b[32m━━━━━━━━━━━━━━━━━━━━\u001b[0m\u001b[37m\u001b[0m \u001b[1m1s\u001b[0m 391us/step - accuracy: 0.9903 - loss: 0.0371 - val_accuracy: 0.9887 - val_loss: 0.0422\n",
      "Epoch 37/50\n",
      "\u001b[1m3035/3035\u001b[0m \u001b[32m━━━━━━━━━━━━━━━━━━━━\u001b[0m\u001b[37m\u001b[0m \u001b[1m1s\u001b[0m 386us/step - accuracy: 0.9903 - loss: 0.0370 - val_accuracy: 0.9887 - val_loss: 0.0422\n",
      "Epoch 38/50\n",
      "\u001b[1m3035/3035\u001b[0m \u001b[32m━━━━━━━━━━━━━━━━━━━━\u001b[0m\u001b[37m\u001b[0m \u001b[1m1s\u001b[0m 395us/step - accuracy: 0.9894 - loss: 0.0387 - val_accuracy: 0.9887 - val_loss: 0.0423\n",
      "Epoch 39/50\n",
      "\u001b[1m3035/3035\u001b[0m \u001b[32m━━━━━━━━━━━━━━━━━━━━\u001b[0m\u001b[37m\u001b[0m \u001b[1m1s\u001b[0m 380us/step - accuracy: 0.9885 - loss: 0.0418 - val_accuracy: 0.9887 - val_loss: 0.0422\n",
      "Epoch 40/50\n",
      "\u001b[1m3035/3035\u001b[0m \u001b[32m━━━━━━━━━━━━━━━━━━━━\u001b[0m\u001b[37m\u001b[0m \u001b[1m1s\u001b[0m 381us/step - accuracy: 0.9872 - loss: 0.0456 - val_accuracy: 0.9887 - val_loss: 0.0425\n",
      "Epoch 41/50\n",
      "\u001b[1m3035/3035\u001b[0m \u001b[32m━━━━━━━━━━━━━━━━━━━━\u001b[0m\u001b[37m\u001b[0m \u001b[1m1s\u001b[0m 380us/step - accuracy: 0.9904 - loss: 0.0355 - val_accuracy: 0.9887 - val_loss: 0.0421\n",
      "Epoch 42/50\n",
      "\u001b[1m3035/3035\u001b[0m \u001b[32m━━━━━━━━━━━━━━━━━━━━\u001b[0m\u001b[37m\u001b[0m \u001b[1m1s\u001b[0m 383us/step - accuracy: 0.9894 - loss: 0.0398 - val_accuracy: 0.9887 - val_loss: 0.0429\n",
      "Epoch 43/50\n",
      "\u001b[1m3035/3035\u001b[0m \u001b[32m━━━━━━━━━━━━━━━━━━━━\u001b[0m\u001b[37m\u001b[0m \u001b[1m1s\u001b[0m 386us/step - accuracy: 0.9897 - loss: 0.0388 - val_accuracy: 0.9887 - val_loss: 0.0421\n",
      "Epoch 44/50\n",
      "\u001b[1m3035/3035\u001b[0m \u001b[32m━━━━━━━━━━━━━━━━━━━━\u001b[0m\u001b[37m\u001b[0m \u001b[1m1s\u001b[0m 381us/step - accuracy: 0.9891 - loss: 0.0399 - val_accuracy: 0.9887 - val_loss: 0.0421\n",
      "Epoch 45/50\n",
      "\u001b[1m3035/3035\u001b[0m \u001b[32m━━━━━━━━━━━━━━━━━━━━\u001b[0m\u001b[37m\u001b[0m \u001b[1m1s\u001b[0m 383us/step - accuracy: 0.9892 - loss: 0.0394 - val_accuracy: 0.9887 - val_loss: 0.0423\n",
      "Epoch 46/50\n",
      "\u001b[1m3035/3035\u001b[0m \u001b[32m━━━━━━━━━━━━━━━━━━━━\u001b[0m\u001b[37m\u001b[0m \u001b[1m1s\u001b[0m 388us/step - accuracy: 0.9894 - loss: 0.0393 - val_accuracy: 0.9887 - val_loss: 0.0431\n",
      "Epoch 47/50\n",
      "\u001b[1m3035/3035\u001b[0m \u001b[32m━━━━━━━━━━━━━━━━━━━━\u001b[0m\u001b[37m\u001b[0m \u001b[1m1s\u001b[0m 387us/step - accuracy: 0.9895 - loss: 0.0387 - val_accuracy: 0.9887 - val_loss: 0.0425\n",
      "Epoch 48/50\n",
      "\u001b[1m3035/3035\u001b[0m \u001b[32m━━━━━━━━━━━━━━━━━━━━\u001b[0m\u001b[37m\u001b[0m \u001b[1m1s\u001b[0m 386us/step - accuracy: 0.9894 - loss: 0.0394 - val_accuracy: 0.9887 - val_loss: 0.0424\n",
      "Epoch 49/50\n",
      "\u001b[1m3035/3035\u001b[0m \u001b[32m━━━━━━━━━━━━━━━━━━━━\u001b[0m\u001b[37m\u001b[0m \u001b[1m1s\u001b[0m 391us/step - accuracy: 0.9895 - loss: 0.0389 - val_accuracy: 0.9887 - val_loss: 0.0426\n",
      "Epoch 50/50\n",
      "\u001b[1m3035/3035\u001b[0m \u001b[32m━━━━━━━━━━━━━━━━━━━━\u001b[0m\u001b[37m\u001b[0m \u001b[1m1s\u001b[0m 380us/step - accuracy: 0.9888 - loss: 0.0408 - val_accuracy: 0.9887 - val_loss: 0.0430\n"
     ]
    },
    {
     "data": {
      "text/plain": [
       "<keras.src.callbacks.history.History at 0x192a9bfb500>"
      ]
     },
     "execution_count": 26,
     "metadata": {},
     "output_type": "execute_result"
    }
   ],
   "source": [
    "from keras.models import Sequential\n",
    "from keras.layers import Dense\n",
    "\n",
    "model = Sequential()\n",
    "model.add(Dense(10, input_dim=X_train_scaled.shape[1], activation='relu'))\n",
    "model.add(Dense(8, activation='relu'))\n",
    "model.add(Dense(1, activation='sigmoid'))  # Sortie binaire\n",
    "\n",
    "model.compile(loss='binary_crossentropy', optimizer='adam', metrics=['accuracy'])\n",
    "\n",
    "model.fit(X_train_scaled, y_train, validation_split=0.2, epochs=50, batch_size=10)\n"
   ]
  },
  {
   "cell_type": "code",
   "execution_count": 27,
   "metadata": {},
   "outputs": [
    {
     "name": "stdout",
     "output_type": "stream",
     "text": [
      "casualty_severity_2\n",
      "False    30610\n",
      "True      7322\n",
      "Name: count, dtype: int64\n"
     ]
    }
   ],
   "source": [
    "# Supposons que 'y_train' est ta variable cible\n",
    "print(y_train.value_counts())\n"
   ]
  },
  {
   "cell_type": "code",
   "execution_count": 29,
   "metadata": {},
   "outputs": [
    {
     "name": "stdout",
     "output_type": "stream",
     "text": [
      "casualty_severity_2\n",
      "True     30610\n",
      "False    30610\n",
      "Name: count, dtype: int64\n"
     ]
    }
   ],
   "source": [
    "from imblearn.over_sampling import SMOTE\n",
    "\n",
    "smote = SMOTE(random_state=42)\n",
    "X_train_smote, y_train_smote = smote.fit_resample(X_train_scaled, y_train)\n",
    "\n",
    "# Vérifier l'équilibre des classes après suréchantillonnage\n",
    "print(pd.Series(y_train_smote).value_counts())\n"
   ]
  },
  {
   "cell_type": "code",
   "execution_count": 30,
   "metadata": {},
   "outputs": [
    {
     "name": "stdout",
     "output_type": "stream",
     "text": [
      "Epoch 1/50\n"
     ]
    },
    {
     "name": "stderr",
     "output_type": "stream",
     "text": [
      "C:\\Users\\zaebo\\AppData\\Roaming\\Python\\Python312\\site-packages\\keras\\src\\layers\\core\\dense.py:88: UserWarning: Do not pass an `input_shape`/`input_dim` argument to a layer. When using Sequential models, prefer using an `Input(shape)` object as the first layer in the model instead.\n",
      "  super().__init__(activity_regularizer=activity_regularizer, **kwargs)\n"
     ]
    },
    {
     "name": "stdout",
     "output_type": "stream",
     "text": [
      "\u001b[1m4898/4898\u001b[0m \u001b[32m━━━━━━━━━━━━━━━━━━━━\u001b[0m\u001b[37m\u001b[0m \u001b[1m3s\u001b[0m 440us/step - accuracy: 0.9586 - loss: 0.1576 - val_accuracy: 1.0000 - val_loss: 0.0160\n",
      "Epoch 2/50\n",
      "\u001b[1m4898/4898\u001b[0m \u001b[32m━━━━━━━━━━━━━━━━━━━━\u001b[0m\u001b[37m\u001b[0m \u001b[1m2s\u001b[0m 429us/step - accuracy: 0.9912 - loss: 0.0463 - val_accuracy: 1.0000 - val_loss: 0.0196\n",
      "Epoch 3/50\n",
      "\u001b[1m4898/4898\u001b[0m \u001b[32m━━━━━━━━━━━━━━━━━━━━\u001b[0m\u001b[37m\u001b[0m \u001b[1m2s\u001b[0m 425us/step - accuracy: 0.9909 - loss: 0.0435 - val_accuracy: 1.0000 - val_loss: 0.0244\n",
      "Epoch 4/50\n",
      "\u001b[1m4898/4898\u001b[0m \u001b[32m━━━━━━━━━━━━━━━━━━━━\u001b[0m\u001b[37m\u001b[0m \u001b[1m2s\u001b[0m 422us/step - accuracy: 0.9901 - loss: 0.0451 - val_accuracy: 1.0000 - val_loss: 0.0197\n",
      "Epoch 5/50\n",
      "\u001b[1m4898/4898\u001b[0m \u001b[32m━━━━━━━━━━━━━━━━━━━━\u001b[0m\u001b[37m\u001b[0m \u001b[1m2s\u001b[0m 412us/step - accuracy: 0.9904 - loss: 0.0440 - val_accuracy: 1.0000 - val_loss: 0.0201\n",
      "Epoch 6/50\n",
      "\u001b[1m4898/4898\u001b[0m \u001b[32m━━━━━━━━━━━━━━━━━━━━\u001b[0m\u001b[37m\u001b[0m \u001b[1m2s\u001b[0m 413us/step - accuracy: 0.9897 - loss: 0.0449 - val_accuracy: 1.0000 - val_loss: 0.0231\n",
      "Epoch 7/50\n",
      "\u001b[1m4898/4898\u001b[0m \u001b[32m━━━━━━━━━━━━━━━━━━━━\u001b[0m\u001b[37m\u001b[0m \u001b[1m2s\u001b[0m 422us/step - accuracy: 0.9899 - loss: 0.0451 - val_accuracy: 1.0000 - val_loss: 0.0236\n",
      "Epoch 8/50\n",
      "\u001b[1m4898/4898\u001b[0m \u001b[32m━━━━━━━━━━━━━━━━━━━━\u001b[0m\u001b[37m\u001b[0m \u001b[1m2s\u001b[0m 414us/step - accuracy: 0.9907 - loss: 0.0424 - val_accuracy: 1.0000 - val_loss: 0.0209\n",
      "Epoch 9/50\n",
      "\u001b[1m4898/4898\u001b[0m \u001b[32m━━━━━━━━━━━━━━━━━━━━\u001b[0m\u001b[37m\u001b[0m \u001b[1m2s\u001b[0m 419us/step - accuracy: 0.9906 - loss: 0.0432 - val_accuracy: 1.0000 - val_loss: 0.0213\n",
      "Epoch 10/50\n",
      "\u001b[1m4898/4898\u001b[0m \u001b[32m━━━━━━━━━━━━━━━━━━━━\u001b[0m\u001b[37m\u001b[0m \u001b[1m2s\u001b[0m 413us/step - accuracy: 0.9905 - loss: 0.0430 - val_accuracy: 1.0000 - val_loss: 0.0234\n",
      "Epoch 11/50\n",
      "\u001b[1m4898/4898\u001b[0m \u001b[32m━━━━━━━━━━━━━━━━━━━━\u001b[0m\u001b[37m\u001b[0m \u001b[1m2s\u001b[0m 422us/step - accuracy: 0.9893 - loss: 0.0474 - val_accuracy: 1.0000 - val_loss: 0.0216\n",
      "Epoch 12/50\n",
      "\u001b[1m4898/4898\u001b[0m \u001b[32m━━━━━━━━━━━━━━━━━━━━\u001b[0m\u001b[37m\u001b[0m \u001b[1m2s\u001b[0m 418us/step - accuracy: 0.9908 - loss: 0.0416 - val_accuracy: 1.0000 - val_loss: 0.0197\n",
      "Epoch 13/50\n",
      "\u001b[1m4898/4898\u001b[0m \u001b[32m━━━━━━━━━━━━━━━━━━━━\u001b[0m\u001b[37m\u001b[0m \u001b[1m2s\u001b[0m 418us/step - accuracy: 0.9902 - loss: 0.0438 - val_accuracy: 1.0000 - val_loss: 0.0217\n",
      "Epoch 14/50\n",
      "\u001b[1m4898/4898\u001b[0m \u001b[32m━━━━━━━━━━━━━━━━━━━━\u001b[0m\u001b[37m\u001b[0m \u001b[1m2s\u001b[0m 416us/step - accuracy: 0.9902 - loss: 0.0436 - val_accuracy: 1.0000 - val_loss: 0.0214\n",
      "Epoch 15/50\n",
      "\u001b[1m4898/4898\u001b[0m \u001b[32m━━━━━━━━━━━━━━━━━━━━\u001b[0m\u001b[37m\u001b[0m \u001b[1m2s\u001b[0m 414us/step - accuracy: 0.9910 - loss: 0.0403 - val_accuracy: 1.0000 - val_loss: 0.0278\n",
      "Epoch 16/50\n",
      "\u001b[1m4898/4898\u001b[0m \u001b[32m━━━━━━━━━━━━━━━━━━━━\u001b[0m\u001b[37m\u001b[0m \u001b[1m2s\u001b[0m 422us/step - accuracy: 0.9902 - loss: 0.0432 - val_accuracy: 1.0000 - val_loss: 0.0230\n",
      "Epoch 17/50\n",
      "\u001b[1m4898/4898\u001b[0m \u001b[32m━━━━━━━━━━━━━━━━━━━━\u001b[0m\u001b[37m\u001b[0m \u001b[1m2s\u001b[0m 424us/step - accuracy: 0.9902 - loss: 0.0434 - val_accuracy: 1.0000 - val_loss: 0.0247\n",
      "Epoch 18/50\n",
      "\u001b[1m4898/4898\u001b[0m \u001b[32m━━━━━━━━━━━━━━━━━━━━\u001b[0m\u001b[37m\u001b[0m \u001b[1m2s\u001b[0m 436us/step - accuracy: 0.9901 - loss: 0.0440 - val_accuracy: 1.0000 - val_loss: 0.0166\n",
      "Epoch 19/50\n",
      "\u001b[1m4898/4898\u001b[0m \u001b[32m━━━━━━━━━━━━━━━━━━━━\u001b[0m\u001b[37m\u001b[0m \u001b[1m2s\u001b[0m 429us/step - accuracy: 0.9899 - loss: 0.0448 - val_accuracy: 1.0000 - val_loss: 0.0201\n",
      "Epoch 20/50\n",
      "\u001b[1m4898/4898\u001b[0m \u001b[32m━━━━━━━━━━━━━━━━━━━━\u001b[0m\u001b[37m\u001b[0m \u001b[1m2s\u001b[0m 436us/step - accuracy: 0.9901 - loss: 0.0442 - val_accuracy: 1.0000 - val_loss: 0.0222\n",
      "Epoch 21/50\n",
      "\u001b[1m4898/4898\u001b[0m \u001b[32m━━━━━━━━━━━━━━━━━━━━\u001b[0m\u001b[37m\u001b[0m \u001b[1m2s\u001b[0m 423us/step - accuracy: 0.9906 - loss: 0.0421 - val_accuracy: 1.0000 - val_loss: 0.0224\n",
      "Epoch 22/50\n",
      "\u001b[1m4898/4898\u001b[0m \u001b[32m━━━━━━━━━━━━━━━━━━━━\u001b[0m\u001b[37m\u001b[0m \u001b[1m2s\u001b[0m 425us/step - accuracy: 0.9901 - loss: 0.0436 - val_accuracy: 1.0000 - val_loss: 0.0255\n",
      "Epoch 23/50\n",
      "\u001b[1m4898/4898\u001b[0m \u001b[32m━━━━━━━━━━━━━━━━━━━━\u001b[0m\u001b[37m\u001b[0m \u001b[1m2s\u001b[0m 437us/step - accuracy: 0.9910 - loss: 0.0409 - val_accuracy: 1.0000 - val_loss: 0.0230\n",
      "Epoch 24/50\n",
      "\u001b[1m4898/4898\u001b[0m \u001b[32m━━━━━━━━━━━━━━━━━━━━\u001b[0m\u001b[37m\u001b[0m \u001b[1m2s\u001b[0m 436us/step - accuracy: 0.9901 - loss: 0.0430 - val_accuracy: 1.0000 - val_loss: 0.0193\n",
      "Epoch 25/50\n",
      "\u001b[1m4898/4898\u001b[0m \u001b[32m━━━━━━━━━━━━━━━━━━━━\u001b[0m\u001b[37m\u001b[0m \u001b[1m2s\u001b[0m 434us/step - accuracy: 0.9902 - loss: 0.0429 - val_accuracy: 1.0000 - val_loss: 0.0205\n",
      "Epoch 26/50\n",
      "\u001b[1m4898/4898\u001b[0m \u001b[32m━━━━━━━━━━━━━━━━━━━━\u001b[0m\u001b[37m\u001b[0m \u001b[1m2s\u001b[0m 435us/step - accuracy: 0.9909 - loss: 0.0411 - val_accuracy: 1.0000 - val_loss: 0.0208\n",
      "Epoch 27/50\n",
      "\u001b[1m4898/4898\u001b[0m \u001b[32m━━━━━━━━━━━━━━━━━━━━\u001b[0m\u001b[37m\u001b[0m \u001b[1m2s\u001b[0m 434us/step - accuracy: 0.9903 - loss: 0.0437 - val_accuracy: 1.0000 - val_loss: 0.0194\n",
      "Epoch 28/50\n",
      "\u001b[1m4898/4898\u001b[0m \u001b[32m━━━━━━━━━━━━━━━━━━━━\u001b[0m\u001b[37m\u001b[0m \u001b[1m2s\u001b[0m 431us/step - accuracy: 0.9897 - loss: 0.0446 - val_accuracy: 1.0000 - val_loss: 0.0235\n",
      "Epoch 29/50\n",
      "\u001b[1m4898/4898\u001b[0m \u001b[32m━━━━━━━━━━━━━━━━━━━━\u001b[0m\u001b[37m\u001b[0m \u001b[1m2s\u001b[0m 434us/step - accuracy: 0.9906 - loss: 0.0414 - val_accuracy: 1.0000 - val_loss: 0.0270\n",
      "Epoch 30/50\n",
      "\u001b[1m4898/4898\u001b[0m \u001b[32m━━━━━━━━━━━━━━━━━━━━\u001b[0m\u001b[37m\u001b[0m \u001b[1m2s\u001b[0m 432us/step - accuracy: 0.9909 - loss: 0.0404 - val_accuracy: 1.0000 - val_loss: 0.0281\n",
      "Epoch 31/50\n",
      "\u001b[1m4898/4898\u001b[0m \u001b[32m━━━━━━━━━━━━━━━━━━━━\u001b[0m\u001b[37m\u001b[0m \u001b[1m2s\u001b[0m 420us/step - accuracy: 0.9907 - loss: 0.0417 - val_accuracy: 1.0000 - val_loss: 0.0279\n",
      "Epoch 32/50\n",
      "\u001b[1m4898/4898\u001b[0m \u001b[32m━━━━━━━━━━━━━━━━━━━━\u001b[0m\u001b[37m\u001b[0m \u001b[1m2s\u001b[0m 437us/step - accuracy: 0.9902 - loss: 0.0438 - val_accuracy: 1.0000 - val_loss: 0.0232\n",
      "Epoch 33/50\n",
      "\u001b[1m4898/4898\u001b[0m \u001b[32m━━━━━━━━━━━━━━━━━━━━\u001b[0m\u001b[37m\u001b[0m \u001b[1m2s\u001b[0m 441us/step - accuracy: 0.9903 - loss: 0.0431 - val_accuracy: 1.0000 - val_loss: 0.0194\n",
      "Epoch 34/50\n",
      "\u001b[1m4898/4898\u001b[0m \u001b[32m━━━━━━━━━━━━━━━━━━━━\u001b[0m\u001b[37m\u001b[0m \u001b[1m2s\u001b[0m 438us/step - accuracy: 0.9906 - loss: 0.0417 - val_accuracy: 1.0000 - val_loss: 0.0172\n",
      "Epoch 35/50\n",
      "\u001b[1m4898/4898\u001b[0m \u001b[32m━━━━━━━━━━━━━━━━━━━━\u001b[0m\u001b[37m\u001b[0m \u001b[1m2s\u001b[0m 439us/step - accuracy: 0.9901 - loss: 0.0444 - val_accuracy: 1.0000 - val_loss: 0.0231\n",
      "Epoch 36/50\n",
      "\u001b[1m4898/4898\u001b[0m \u001b[32m━━━━━━━━━━━━━━━━━━━━\u001b[0m\u001b[37m\u001b[0m \u001b[1m2s\u001b[0m 428us/step - accuracy: 0.9911 - loss: 0.0408 - val_accuracy: 1.0000 - val_loss: 0.0288\n",
      "Epoch 37/50\n",
      "\u001b[1m4898/4898\u001b[0m \u001b[32m━━━━━━━━━━━━━━━━━━━━\u001b[0m\u001b[37m\u001b[0m \u001b[1m2s\u001b[0m 433us/step - accuracy: 0.9908 - loss: 0.0411 - val_accuracy: 1.0000 - val_loss: 0.0226\n",
      "Epoch 38/50\n",
      "\u001b[1m4898/4898\u001b[0m \u001b[32m━━━━━━━━━━━━━━━━━━━━\u001b[0m\u001b[37m\u001b[0m \u001b[1m2s\u001b[0m 434us/step - accuracy: 0.9898 - loss: 0.0442 - val_accuracy: 1.0000 - val_loss: 0.0204\n",
      "Epoch 39/50\n",
      "\u001b[1m4898/4898\u001b[0m \u001b[32m━━━━━━━━━━━━━━━━━━━━\u001b[0m\u001b[37m\u001b[0m \u001b[1m2s\u001b[0m 427us/step - accuracy: 0.9907 - loss: 0.0410 - val_accuracy: 1.0000 - val_loss: 0.0219\n",
      "Epoch 40/50\n",
      "\u001b[1m4898/4898\u001b[0m \u001b[32m━━━━━━━━━━━━━━━━━━━━\u001b[0m\u001b[37m\u001b[0m \u001b[1m2s\u001b[0m 422us/step - accuracy: 0.9904 - loss: 0.0419 - val_accuracy: 1.0000 - val_loss: 0.0232\n",
      "Epoch 41/50\n",
      "\u001b[1m4898/4898\u001b[0m \u001b[32m━━━━━━━━━━━━━━━━━━━━\u001b[0m\u001b[37m\u001b[0m \u001b[1m2s\u001b[0m 420us/step - accuracy: 0.9904 - loss: 0.0419 - val_accuracy: 1.0000 - val_loss: 0.0229\n",
      "Epoch 42/50\n",
      "\u001b[1m4898/4898\u001b[0m \u001b[32m━━━━━━━━━━━━━━━━━━━━\u001b[0m\u001b[37m\u001b[0m \u001b[1m2s\u001b[0m 424us/step - accuracy: 0.9903 - loss: 0.0430 - val_accuracy: 1.0000 - val_loss: 0.0181\n",
      "Epoch 43/50\n",
      "\u001b[1m4898/4898\u001b[0m \u001b[32m━━━━━━━━━━━━━━━━━━━━\u001b[0m\u001b[37m\u001b[0m \u001b[1m2s\u001b[0m 425us/step - accuracy: 0.9898 - loss: 0.0453 - val_accuracy: 1.0000 - val_loss: 0.0238\n",
      "Epoch 44/50\n",
      "\u001b[1m4898/4898\u001b[0m \u001b[32m━━━━━━━━━━━━━━━━━━━━\u001b[0m\u001b[37m\u001b[0m \u001b[1m2s\u001b[0m 425us/step - accuracy: 0.9900 - loss: 0.0436 - val_accuracy: 1.0000 - val_loss: 0.0230\n",
      "Epoch 45/50\n",
      "\u001b[1m4898/4898\u001b[0m \u001b[32m━━━━━━━━━━━━━━━━━━━━\u001b[0m\u001b[37m\u001b[0m \u001b[1m2s\u001b[0m 409us/step - accuracy: 0.9907 - loss: 0.0419 - val_accuracy: 1.0000 - val_loss: 0.0191\n",
      "Epoch 46/50\n",
      "\u001b[1m4898/4898\u001b[0m \u001b[32m━━━━━━━━━━━━━━━━━━━━\u001b[0m\u001b[37m\u001b[0m \u001b[1m2s\u001b[0m 422us/step - accuracy: 0.9914 - loss: 0.0394 - val_accuracy: 1.0000 - val_loss: 0.0241\n",
      "Epoch 47/50\n",
      "\u001b[1m4898/4898\u001b[0m \u001b[32m━━━━━━━━━━━━━━━━━━━━\u001b[0m\u001b[37m\u001b[0m \u001b[1m2s\u001b[0m 430us/step - accuracy: 0.9906 - loss: 0.0419 - val_accuracy: 1.0000 - val_loss: 0.0233\n",
      "Epoch 48/50\n",
      "\u001b[1m4898/4898\u001b[0m \u001b[32m━━━━━━━━━━━━━━━━━━━━\u001b[0m\u001b[37m\u001b[0m \u001b[1m2s\u001b[0m 440us/step - accuracy: 0.9912 - loss: 0.0396 - val_accuracy: 1.0000 - val_loss: 0.0245\n",
      "Epoch 49/50\n",
      "\u001b[1m4898/4898\u001b[0m \u001b[32m━━━━━━━━━━━━━━━━━━━━\u001b[0m\u001b[37m\u001b[0m \u001b[1m2s\u001b[0m 436us/step - accuracy: 0.9911 - loss: 0.0405 - val_accuracy: 1.0000 - val_loss: 0.0204\n",
      "Epoch 50/50\n",
      "\u001b[1m4898/4898\u001b[0m \u001b[32m━━━━━━━━━━━━━━━━━━━━\u001b[0m\u001b[37m\u001b[0m \u001b[1m2s\u001b[0m 438us/step - accuracy: 0.9905 - loss: 0.0419 - val_accuracy: 1.0000 - val_loss: 0.0253\n"
     ]
    }
   ],
   "source": [
    "from keras.models import Sequential\n",
    "from keras.layers import Dense, Dropout\n",
    "\n",
    "model = Sequential()\n",
    "model.add(Dense(16, input_dim=X_train_smote.shape[1], activation='relu')) # Ajuste la dimension d'entrée selon tes données\n",
    "model.add(Dropout(0.2))\n",
    "model.add(Dense(8, activation='relu'))\n",
    "model.add(Dropout(0.2))\n",
    "model.add(Dense(1, activation='sigmoid'))  # Utilise une sortie sigmoïde pour la classification binaire\n",
    "\n",
    "model.compile(loss='binary_crossentropy', optimizer='adam', metrics=['accuracy'])\n",
    "\n",
    "history = model.fit(X_train_smote, y_train_smote, epochs=50, batch_size=10, validation_split=0.2)\n"
   ]
  },
  {
   "cell_type": "code",
   "execution_count": 31,
   "metadata": {},
   "outputs": [
    {
     "name": "stdout",
     "output_type": "stream",
     "text": [
      "\u001b[1m509/509\u001b[0m \u001b[32m━━━━━━━━━━━━━━━━━━━━\u001b[0m\u001b[37m\u001b[0m \u001b[1m0s\u001b[0m 284us/step - accuracy: 0.9872 - loss: 0.0496\n",
      "Test Loss: 0.0466, Test Accuracy: 0.9885\n"
     ]
    }
   ],
   "source": [
    "loss, accuracy = model.evaluate(X_test_scaled, y_test)\n",
    "print(f'Test Loss: {loss:.4f}, Test Accuracy: {accuracy:.4f}')\n"
   ]
  },
  {
   "cell_type": "code",
   "execution_count": 32,
   "metadata": {},
   "outputs": [
    {
     "data": {
      "image/png": "[encoded data removed]",
      "text/plain": [
       "<Figure size 640x480 with 1 Axes>"
      ]
     },
     "metadata": {},
     "output_type": "display_data"
    },
    {
     "data": {
      "image/png": "[encoded data removed]",
      "text/plain": [
       "<Figure size 640x480 with 1 Axes>"
      ]
     },
     "metadata": {},
     "output_type": "display_data"
    }
   ],
   "source": [
    "import matplotlib.pyplot as plt\n",
    "\n",
    "# Tracer l'accuracy\n",
    "plt.plot(history.history['accuracy'], label='train')\n",
    "plt.plot(history.history['val_accuracy'], label='validation')\n",
    "plt.title('Model accuracy')\n",
    "plt.ylabel('accuracy')\n",
    "plt.xlabel('epoch')\n",
    "plt.legend(['Train', 'Validation'], loc='upper left')\n",
    "plt.show()\n",
    "\n",
    "# Tracer la loss\n",
    "plt.plot(history.history['loss'], label='train')\n",
    "plt.plot(history.history['val_loss'], label='validation')\n",
    "plt.title('Model loss')\n",
    "plt.ylabel('loss')\n",
    "plt.xlabel('epoch')\n",
    "plt.legend(['Train', 'Validation'], loc='upper left')\n",
    "plt.show()\n"
   ]
  },
  {
   "cell_type": "code",
   "execution_count": 33,
   "metadata": {},
   "outputs": [
    {
     "name": "stdout",
     "output_type": "stream",
     "text": [
      "\u001b[1m509/509\u001b[0m \u001b[32m━━━━━━━━━━━━━━━━━━━━\u001b[0m\u001b[37m\u001b[0m \u001b[1m0s\u001b[0m 299us/step\n",
      "[[12966   187]\n",
      " [    0  3104]]\n",
      "Vrais Négatifs (TN): 12966\n",
      "Faux Positifs (FP): 187\n",
      "Faux Négatifs (FN): 0\n",
      "Vrais Positifs (TP): 3104\n"
     ]
    }
   ],
   "source": [
    "from sklearn.metrics import confusion_matrix\n",
    "\n",
    "# Prédictions\n",
    "y_pred = (model.predict(X_test_scaled) > 0.5).astype(\"int32\")\n",
    "\n",
    "# Matrice de confusion\n",
    "cm = confusion_matrix(y_test, y_pred)\n",
    "print(cm)\n",
    "\n",
    "TN, FP, FN, TP = cm.ravel()\n",
    "\n",
    "print(f\"Vrais Négatifs (TN): {TN}\")\n",
    "print(f\"Faux Positifs (FP): {FP}\")\n",
    "print(f\"Faux Négatifs (FN): {FN}\")\n",
    "print(f\"Vrais Positifs (TP): {TP}\")\n"
   ]
  }
 ],
 "metadata": {
  "kernelspec": {
   "display_name": "Python 3",
   "language": "python",
   "name": "python3"
  },
  "language_info": {
   "codemirror_mode": {
    "name": "ipython",
    "version": 3
   },
   "file_extension": ".py",
   "mimetype": "text/x-python",
   "name": "python",
   "nbconvert_exporter": "python",
   "pygments_lexer": "ipython3",
   "version": "3.12.2"
  }
 },
 "nbformat": 4,
 "nbformat_minor": 2
}
