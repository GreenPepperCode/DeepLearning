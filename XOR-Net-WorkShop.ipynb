{
 "cells": [
  {
   "cell_type": "markdown",
   "metadata": {},
   "source": [
    "# XOR Prediction Neural Network\n",
    "#### A simple neural network which will learn the XOR logic gate.\n",
    "\n",
    "I will provide you with any links necessary so that you can read about the different aspects of this NN(Neural Network)."
   ]
  },
  {
   "attachments": {
    "nn_pic.png": {
     "image/png": "[encoded data removed]"
    }
   },
   "cell_type": "markdown",
   "metadata": {},
   "source": [
    "## Neural Network Info\n",
    "\n",
    "#### All information regarding the neural network:\n",
    "\n",
    "- Input Layer Units = 2 (Can be modified)\n",
    "- Hidden Layer Units = 2 (Can be modified)\n",
    "- Output Layer Units = 1 (Since this is problem specific, it can't be modified)\n",
    "\n",
    "- No. of hidden layers = 1\n",
    "- Learning Algorithm = Backpropagation\n",
    "\n",
    "![nn_pic.png](attachment:nn_pic.png)\n",
    "\n",
    "Feel free to mess around with it and try out different things."
   ]
  },
  {
   "cell_type": "code",
   "execution_count": 442,
   "metadata": {},
   "outputs": [],
   "source": [
    "import numpy as np # For matrix math\n",
    "import matplotlib.pyplot as plt # For plotting\n",
    "\n",
    "import sys # For printing"
   ]
  },
  {
   "cell_type": "markdown",
   "metadata": {},
   "source": [
    "### Neural Network Implementation\n",
    "Initially, I was going to approach this in an Object Oriented manner but I think that it would be much easier to read and implement, functionally. So, let's get started."
   ]
  },
  {
   "cell_type": "markdown",
   "metadata": {},
   "source": [
    "### Training Data\n",
    "\n",
    "The XOR logic gate returns true when the number of inputs given is odd and false when they're even. Here is the simple training dataset."
   ]
  },
  {
   "cell_type": "code",
   "execution_count": 443,
   "metadata": {},
   "outputs": [],
   "source": [
    "# The training data.\n",
    "X = np.array([\n",
    "    [0, 1],\n",
    "    [1, 0],\n",
    "    [1, 1],\n",
    "    [0, 0]\n",
    "])\n",
    "\n",
    "# The labels for the training data.\n",
    "y = np.array([\n",
    "    [1],\n",
    "    [1],\n",
    "    [0],\n",
    "    [0]\n",
    "])"
   ]
  },
  {
   "cell_type": "code",
   "execution_count": 444,
   "metadata": {},
   "outputs": [
    {
     "data": {
      "text/plain": [
       "array([[0, 1],\n",
       "       [1, 0],\n",
       "       [1, 1],\n",
       "       [0, 0]])"
      ]
     },
     "execution_count": 444,
     "metadata": {},
     "output_type": "execute_result"
    }
   ],
   "source": [
    "X"
   ]
  },
  {
   "cell_type": "code",
   "execution_count": 445,
   "metadata": {},
   "outputs": [
    {
     "data": {
      "text/plain": [
       "array([[1],\n",
       "       [1],\n",
       "       [0],\n",
       "       [0]])"
      ]
     },
     "execution_count": 445,
     "metadata": {},
     "output_type": "execute_result"
    }
   ],
   "source": [
    "y"
   ]
  },
  {
   "cell_type": "markdown",
   "metadata": {},
   "source": [
    "### Additional Parameters\n",
    "These are just additional parameters which are required by the weights for their dimensions."
   ]
  },
  {
   "cell_type": "code",
   "execution_count": 446,
   "metadata": {},
   "outputs": [],
   "source": [
    "num_i_units = 2 # Number of Input units\n",
    "num_h_units = 30 # Number of Hidden units\n",
    "num_o_units = 1 # Number of Output units"
   ]
  },
  {
   "cell_type": "markdown",
   "metadata": {},
   "source": [
    "### Neural Network Parameters\n",
    "These are the parameters required directly by the NN. Comments should describe the variables."
   ]
  },
  {
   "cell_type": "code",
   "execution_count": 447,
   "metadata": {},
   "outputs": [],
   "source": [
    "# The learning rate for Gradient Descent.\n",
    "learning_rate = 1.375\n",
    "\n",
    "# The parameter to help with overfitting.\n",
    "reg_param = 0\n",
    "\n",
    "# Maximum iterations for Gradient Descent.\n",
    "max_iter = 5000\n",
    "\n",
    "# Number of training examples\n",
    "m = 4"
   ]
  },
  {
   "cell_type": "markdown",
   "metadata": {},
   "source": [
    "### Weights and Biases\n",
    "These are the numbers the NN needs to learn to make accurate predictions.\n",
    "\n",
    "For the connections being made from the input layer to the hidden layer, the weights and biases are arranged in the following order: **each row contains the weights for each hidden unit**. Then, the shape of these set of weights is: *(number of hidden units X number of input units)* and the shape of the biases for this connection will be: *(number of hidden units X 1)*.\n",
    "\n",
    "So, the overall shape of the weights and biases are:\n",
    "\n",
    "**Weights1(Connection from input to hidden layers)**: num_h_units X num_i_units\n",
    "**Biases1(Connection from input to hidden layers)**: num_h_units X 1\n",
    "\n",
    "**Weights2(Connection from hidden to output layers)**: num_o_units X num_h_units\n",
    "**Biases2(Connection from hidden to output layers)**: num_o_units X 1\n",
    "\n",
    "### Generating the Weights\n",
    "\n",
    "The weights here are going to be generated using a [Normal Distribution(Gaussian Distribution)](http://mathworld.wolfram.com/NormalDistribution.html). They will also be seeded so that the outcome always comes out the same."
   ]
  },
  {
   "cell_type": "code",
   "execution_count": 448,
   "metadata": {},
   "outputs": [],
   "source": [
    "np.random.seed(1)\n",
    "W1 = np.random.normal(0, 1, (num_h_units, num_i_units)) # 2x2\n",
    "W2 = np.random.normal(0, 1, (num_o_units, num_h_units)) # 1x2\n",
    "\n",
    "B1 = np.random.random((num_h_units, 1)) # 2x1\n",
    "B2 = np.random.random((num_o_units, 1)) # 1x1"
   ]
  },
  {
   "cell_type": "code",
   "execution_count": 449,
   "metadata": {},
   "outputs": [
    {
     "data": {
      "text/plain": [
       "array([[ 1.62434536, -0.61175641],\n",
       "       [-0.52817175, -1.07296862],\n",
       "       [ 0.86540763, -2.3015387 ],\n",
       "       [ 1.74481176, -0.7612069 ],\n",
       "       [ 0.3190391 , -0.24937038],\n",
       "       [ 1.46210794, -2.06014071],\n",
       "       [-0.3224172 , -0.38405435],\n",
       "       [ 1.13376944, -1.09989127],\n",
       "       [-0.17242821, -0.87785842],\n",
       "       [ 0.04221375,  0.58281521],\n",
       "       [-1.10061918,  1.14472371],\n",
       "       [ 0.90159072,  0.50249434],\n",
       "       [ 0.90085595, -0.68372786],\n",
       "       [-0.12289023, -0.93576943],\n",
       "       [-0.26788808,  0.53035547],\n",
       "       [-0.69166075, -0.39675353],\n",
       "       [-0.6871727 , -0.84520564],\n",
       "       [-0.67124613, -0.0126646 ],\n",
       "       [-1.11731035,  0.2344157 ],\n",
       "       [ 1.65980218,  0.74204416],\n",
       "       [-0.19183555, -0.88762896],\n",
       "       [-0.74715829,  1.6924546 ],\n",
       "       [ 0.05080775, -0.63699565],\n",
       "       [ 0.19091548,  2.10025514],\n",
       "       [ 0.12015895,  0.61720311],\n",
       "       [ 0.30017032, -0.35224985],\n",
       "       [-1.1425182 , -0.34934272],\n",
       "       [-0.20889423,  0.58662319],\n",
       "       [ 0.83898341,  0.93110208],\n",
       "       [ 0.28558733,  0.88514116]])"
      ]
     },
     "execution_count": 449,
     "metadata": {},
     "output_type": "execute_result"
    }
   ],
   "source": [
    "W1"
   ]
  },
  {
   "cell_type": "code",
   "execution_count": 450,
   "metadata": {},
   "outputs": [
    {
     "data": {
      "text/plain": [
       "array([[-0.75439794,  1.25286816,  0.51292982, -0.29809284,  0.48851815,\n",
       "        -0.07557171,  1.13162939,  1.51981682,  2.18557541, -1.39649634,\n",
       "        -1.44411381, -0.50446586,  0.16003707,  0.87616892,  0.31563495,\n",
       "        -2.02220122, -0.30620401,  0.82797464,  0.23009474,  0.76201118,\n",
       "        -0.22232814, -0.20075807,  0.18656139,  0.41005165,  0.19829972,\n",
       "         0.11900865, -0.67066229,  0.37756379,  0.12182127,  1.12948391]])"
      ]
     },
     "execution_count": 450,
     "metadata": {},
     "output_type": "execute_result"
    }
   ],
   "source": [
    "W2"
   ]
  },
  {
   "cell_type": "code",
   "execution_count": 451,
   "metadata": {},
   "outputs": [
    {
     "data": {
      "text/plain": [
       "array([[0.55282198],\n",
       "       [0.84203089],\n",
       "       [0.12417332],\n",
       "       [0.27918368],\n",
       "       [0.58575927],\n",
       "       [0.96959575],\n",
       "       [0.56103022],\n",
       "       [0.01864729],\n",
       "       [0.80063267],\n",
       "       [0.23297427],\n",
       "       [0.8071052 ],\n",
       "       [0.38786064],\n",
       "       [0.86354185],\n",
       "       [0.74712164],\n",
       "       [0.55624023],\n",
       "       [0.13645523],\n",
       "       [0.05991769],\n",
       "       [0.12134346],\n",
       "       [0.04455188],\n",
       "       [0.10749413],\n",
       "       [0.22570934],\n",
       "       [0.71298898],\n",
       "       [0.55971698],\n",
       "       [0.01255598],\n",
       "       [0.07197428],\n",
       "       [0.96727633],\n",
       "       [0.56810046],\n",
       "       [0.20329323],\n",
       "       [0.25232574],\n",
       "       [0.74382585]])"
      ]
     },
     "execution_count": 451,
     "metadata": {},
     "output_type": "execute_result"
    }
   ],
   "source": [
    "B1"
   ]
  },
  {
   "cell_type": "code",
   "execution_count": 452,
   "metadata": {},
   "outputs": [
    {
     "data": {
      "text/plain": [
       "array([[0.19542948]])"
      ]
     },
     "execution_count": 452,
     "metadata": {},
     "output_type": "execute_result"
    }
   ],
   "source": [
    "B2"
   ]
  },
  {
   "attachments": {
    "sigmoid-curve.png": {
     "image/png": "[encoded data removed]"
    }
   },
   "cell_type": "markdown",
   "metadata": {},
   "source": [
    "### Sigmoid Function\n",
    "[This](http://mathworld.wolfram.com/SigmoidFunction.html) function maps any input to a value between 0 and 1.\n",
    "\n",
    "![sigmoid-curve.png](attachment:sigmoid-curve.png)\n",
    "\n",
    "In my implementation, I have added a boolean which if set to true, will return [Sigmoid Prime(the derivative of the sigmoid function)](http://www.ai.mit.edu/courses/6.892/lecture8-html/sld015.htm) of the input value. This will be used in backpropagation later on."
   ]
  },
  {
   "cell_type": "code",
   "execution_count": 453,
   "metadata": {},
   "outputs": [],
   "source": [
    "def sigmoid(z, derv=False):\n",
    "    if derv: return z * (1 - z)\n",
    "    return 1 / (1 + np.exp(-z))"
   ]
  },
  {
   "cell_type": "markdown",
   "metadata": {},
   "source": [
    "### Forward Propagation\n",
    "[This](https://en.wikipedia.org/wiki/Feedforward_neural_network) is how predictions are made. Propagating the input through the NN to get the output.\n",
    "\n",
    "In my implementation, the forward function only accepts a feature vector as row vector which is then converted to a column vector. Also, the predict boolean, if set to true, only returns the output. Otherwise, it returns a tuple of the outputs of all the layers."
   ]
  },
  {
   "cell_type": "code",
   "execution_count": 454,
   "metadata": {},
   "outputs": [],
   "source": [
    "def forward(x, predict=False):\n",
    "    a1 = x.reshape(x.shape[0], 1) # Getting the training example as a column vector.\n",
    "\n",
    "    z2 = W1.dot(a1) + B1 # 2x2 * 2x1 + 2x1 = 2x1\n",
    "    a2 = sigmoid(z2) # 2x1\n",
    "\n",
    "    z3 = W2.dot(a2) + B2 # 1x2 * 2x1 + 1x1 = 1x1\n",
    "    a3 = sigmoid(z3)\n",
    "\n",
    "    if predict: return a3\n",
    "    return (a1, a2, a3)"
   ]
  },
  {
   "cell_type": "markdown",
   "metadata": {},
   "source": [
    "### Gradients for the Weights and Biases\n",
    "These variables will contain the gradients for the weights and biases which will be used by gradient descent to update the weights and biases.\n",
    "\n",
    "Also, creating the vector which will be storing the cost values for each gradient descent iteration to help visualize the cost as the weights and biases are updated."
   ]
  },
  {
   "cell_type": "code",
   "execution_count": 455,
   "metadata": {},
   "outputs": [],
   "source": [
    "dW1 = 0 # Gradient for W1\n",
    "dW2 = 0 # Gradient for W2\n",
    "\n",
    "dB1 = 0 # Gradient for B1\n",
    "dB2 = 0 # Gradient for B2\n",
    "\n",
    "cost = np.zeros((max_iter, 1)) # Column vector to record the cost of the NN after each Gradient Descent iteration."
   ]
  },
  {
   "cell_type": "markdown",
   "metadata": {},
   "source": [
    "## Training\n",
    "This is the training function which contains the meat of NN. This contains forward propagation and [Backpropagation](http://neuralnetworksanddeeplearning.com/chap2.html).\n",
    "\n",
    "### Backpropagation\n",
    "The process of propagating the error in the output layer, backwards through the NN to calculate the error in each layer. Intuition: It's like forward propagation, but backwards.\n",
    "\n",
    "Steps(for this NN):\n",
    "1. Calculate the error in the output layer(dz2).\n",
    "2. Calculate the error in the weights connecting the hidden layer to the output layer using dz2 (dW2).\n",
    "3. Calculate the error in the hidden layer(dz1).\n",
    "4. Calculate the error in the weights connecting the input layer to the hidden layer using dz1 (dW1).\n",
    "5. The errors in the biases are just the errors in the respective layers.\n",
    "\n",
    "Afterwards, the gradients(errors) of the weights and biases are used to update the corresponding weights and biases by multiplying them with the negative of the learning rate and scaling it by divinding it by the number of training examples.\n",
    "\n",
    "While iterating over all the training examples, the cost is also being calculated simultaneously for each example. Then, a regurlization parameter is added, although for such a small dataset, regularization is unnecessary since to perform well, the NN will have to over fit to the training data."
   ]
  },
  {
   "cell_type": "code",
   "execution_count": 456,
   "metadata": {},
   "outputs": [],
   "source": [
    "def train(_W1, _W2, _B1, _B2): # The arguments are to bypass UnboundLocalError error\n",
    "    for i in range(max_iter):\n",
    "        c = 0\n",
    "        \n",
    "        dW1 = 0\n",
    "        dW2 = 0\n",
    "\n",
    "        dB1 = 0\n",
    "        dB2 = 0\n",
    "        \n",
    "        for j in range(m):\n",
    "            sys.stdout.write(\"\\rIteration: {} and {}\".format(i + 1, j + 1))\n",
    "\n",
    "            # Forward Prop.\n",
    "            a0 = X[j].reshape(X[j].shape[0], 1) # 2x1\n",
    "\n",
    "            z1 = _W1.dot(a0) + _B1 # 2x2 * 2x1 + 2x1 = 2x1\n",
    "            a1 = sigmoid(z1) # 2x1\n",
    "\n",
    "            z2 = _W2.dot(a1) + _B2 # 1x2 * 2x1 + 1x1 = 1x1\n",
    "            a2 = sigmoid(z2) # 1x1\n",
    "\n",
    "            # Back prop.\n",
    "            dz2 = a2 - y[j] # 1x1\n",
    "            dW2 += dz2 * a1.T # 1x1 .* 1x2 = 1x2\n",
    "\n",
    "            dz1 = np.multiply((_W2.T * dz2), sigmoid(a1, derv=True)) # (2x1 * 1x1) .* 2x1 = 2x1\n",
    "            dW1 += dz1.dot(a0.T) # 2x1 * 1x2 = 2x2\n",
    "\n",
    "            dB1 += dz1 # 2x1\n",
    "            dB2 += dz2 # 1x1\n",
    "\n",
    "            c = c + (-(y[j] * np.log(a2)) - ((1 - y[j]) * np.log(1 - a2)))\n",
    "            sys.stdout.flush() # Updating the text.\n",
    "        \n",
    "        _W1 = _W1 - learning_rate * (dW1 / m) + ( (reg_param / m) * _W1)\n",
    "        _W2 = _W2 - learning_rate * (dW2 / m) + ( (reg_param / m) * _W2)\n",
    "\n",
    "        _B1 = _B1 - learning_rate * (dB1 / m)\n",
    "        _B2 = _B2 - learning_rate * (dB2 / m)\n",
    "        cost[i] = (c / m) + ( \n",
    "            (reg_param / (2 * m)) * \n",
    "            (\n",
    "                np.sum(np.power(_W1, 2)) + \n",
    "                np.sum(np.power(_W2, 2))\n",
    "            )\n",
    "        )\n",
    "    return (_W1, _W2, _B1, _B2)"
   ]
  },
  {
   "cell_type": "markdown",
   "metadata": {},
   "source": [
    "## Running\n",
    "Now, let's try out the NN. Here, I have called the train() function. You can make any changes you like and then run all the kernels again. I have also plotted the cost function to visual how the NN performed.\n",
    "\n",
    "The console printing might be off.\n",
    "\n",
    "The weights and biases are then shown."
   ]
  },
  {
   "cell_type": "code",
   "execution_count": 457,
   "metadata": {},
   "outputs": [
    {
     "name": "stdout",
     "output_type": "stream",
     "text": [
      "Iteration: 5000 and 4"
     ]
    }
   ],
   "source": [
    "W1, W2, B1, B2 = train(W1, W2, B1, B2)"
   ]
  },
  {
   "cell_type": "code",
   "execution_count": 458,
   "metadata": {},
   "outputs": [
    {
     "data": {
      "text/plain": [
       "array([[ 5.0266367 , -3.80069409],\n",
       "       [-0.99533735, -1.12623016],\n",
       "       [ 3.49015385, -4.78504053],\n",
       "       [ 3.75667122, -2.33698428],\n",
       "       [-0.16074851, -0.7303122 ],\n",
       "       [ 5.07943536, -4.10839442],\n",
       "       [-0.88979627, -0.36640155],\n",
       "       [ 3.98284079, -5.04200384],\n",
       "       [-0.84599476, -1.14693312],\n",
       "       [-0.13384178,  0.08020302],\n",
       "       [-4.14247502,  5.14951524],\n",
       "       [ 0.52218358, -0.04509092],\n",
       "       [ 0.4415399 , -1.43398107],\n",
       "       [-0.29723725, -1.16955853],\n",
       "       [-1.34072687,  0.38127713],\n",
       "       [-4.01222585, -4.12057747],\n",
       "       [-1.92473385, -2.09166018],\n",
       "       [-1.91644589,  0.74199475],\n",
       "       [-2.40500283,  1.1136027 ],\n",
       "       [ 3.6643212 ,  3.70169254],\n",
       "       [-0.89933061, -1.40615653],\n",
       "       [-1.24754147,  2.24159459],\n",
       "       [-0.21732136, -0.98501365],\n",
       "       [-0.79839756,  1.52961212],\n",
       "       [-0.68642759,  0.27235706],\n",
       "       [-0.19281123, -0.91337279],\n",
       "       [-2.51678685, -2.46511795],\n",
       "       [-1.36524575,  0.5781317 ],\n",
       "       [ 0.19193374,  0.41970971],\n",
       "       [ 0.17592048,  0.68663121]])"
      ]
     },
     "execution_count": 458,
     "metadata": {},
     "output_type": "execute_result"
    }
   ],
   "source": [
    "W1"
   ]
  },
  {
   "cell_type": "code",
   "execution_count": 459,
   "metadata": {},
   "outputs": [
    {
     "data": {
      "text/plain": [
       "array([[-5.77621109,  2.10503109,  5.43018652, -3.23984198,  0.92951814,\n",
       "        -5.92453215,  1.57080635,  6.3662038 ,  2.41028101, -0.10416688,\n",
       "        -5.86879979, -0.09599134,  0.84491152,  1.33401918,  1.40348497,\n",
       "        -5.14414721, -1.51145115,  1.96856419,  2.23488745,  4.78924581,\n",
       "        -0.29013341, -0.83786894,  0.74383422,  0.77075375,  0.84705227,\n",
       "         0.87226962, -2.12611525,  1.42433538,  0.24188887,  1.27074978]])"
      ]
     },
     "execution_count": 459,
     "metadata": {},
     "output_type": "execute_result"
    }
   ],
   "source": [
    "W2"
   ]
  },
  {
   "cell_type": "code",
   "execution_count": 460,
   "metadata": {},
   "outputs": [
    {
     "data": {
      "text/plain": [
       "array([[ 1.7978117 ],\n",
       "       [ 1.55069303],\n",
       "       [-1.64901896],\n",
       "       [ 1.0198307 ],\n",
       "       [-0.08139322],\n",
       "       [ 2.03615495],\n",
       "       [ 0.52349333],\n",
       "       [-1.96722974],\n",
       "       [ 1.42264151],\n",
       "       [-0.70032332],\n",
       "       [ 2.06244138],\n",
       "       [-0.67450889],\n",
       "       [-0.1224266 ],\n",
       "       [ 0.58846415],\n",
       "       [-0.20170107],\n",
       "       [ 1.09815733],\n",
       "       [-0.42456944],\n",
       "       [-0.31373161],\n",
       "       [-0.46671878],\n",
       "       [-0.8403644 ],\n",
       "       [-0.53311662],\n",
       "       [ 0.59036517],\n",
       "       [-0.01013634],\n",
       "       [-1.08420454],\n",
       "       [-0.64341908],\n",
       "       [ 0.18193785],\n",
       "       [-0.05930212],\n",
       "       [-0.48482055],\n",
       "       [-0.6752112 ],\n",
       "       [ 0.35686383]])"
      ]
     },
     "execution_count": 460,
     "metadata": {},
     "output_type": "execute_result"
    }
   ],
   "source": [
    "B1"
   ]
  },
  {
   "cell_type": "code",
   "execution_count": 461,
   "metadata": {},
   "outputs": [
    {
     "data": {
      "text/plain": [
       "array([[1.43681722]])"
      ]
     },
     "execution_count": 461,
     "metadata": {},
     "output_type": "execute_result"
    }
   ],
   "source": [
    "B2"
   ]
  },
  {
   "cell_type": "markdown",
   "metadata": {},
   "source": [
    "### Plotting\n",
    "Now, let's plot a simple plot showing the cost function with respect to the number of iterations of gradient descent."
   ]
  },
  {
   "cell_type": "code",
   "execution_count": 462,
   "metadata": {},
   "outputs": [
    {
     "data": {
      "image/png": "[encoded data removed]",
      "text/plain": [
       "<Figure size 640x480 with 1 Axes>"
      ]
     },
     "metadata": {},
     "output_type": "display_data"
    }
   ],
   "source": [
    "# Assigning the axes to the different elements.\n",
    "plt.plot(range(max_iter), cost)\n",
    "\n",
    "# Labelling the x axis as the iterations axis.\n",
    "plt.xlabel(\"Iterations\")\n",
    "\n",
    "# Labelling the y axis as the cost axis.\n",
    "plt.ylabel(\"Cost\")\n",
    "\n",
    "# Showing the plot.\n",
    "plt.show()"
   ]
  },
  {
   "cell_type": "markdown",
   "metadata": {},
   "source": [
    "## Observation\n",
    "With the initial parameters, the cost function doesn't look that good. It is decreasing which is a good sign but it isn't flattening out. I have tried, multiple different values but this some seems like the best fit.\n",
    "\n",
    "Try out your own values, run the notebook again and see what you get."
   ]
  },
  {
   "cell_type": "code",
   "execution_count": 463,
   "metadata": {},
   "outputs": [
    {
     "data": {
      "text/plain": [
       "array([[0.00031794]])"
      ]
     },
     "execution_count": 463,
     "metadata": {},
     "output_type": "execute_result"
    }
   ],
   "source": [
    "forward(np.array([0, 0]), True)"
   ]
  },
  {
   "cell_type": "code",
   "execution_count": 464,
   "metadata": {},
   "outputs": [
    {
     "data": {
      "text/plain": [
       "array([[0.99949632]])"
      ]
     },
     "execution_count": 464,
     "metadata": {},
     "output_type": "execute_result"
    }
   ],
   "source": [
    "forward(np.array([0, 1]), True)"
   ]
  },
  {
   "cell_type": "code",
   "execution_count": 465,
   "metadata": {},
   "outputs": [
    {
     "data": {
      "text/plain": [
       "array([[0.99950772]])"
      ]
     },
     "execution_count": 465,
     "metadata": {},
     "output_type": "execute_result"
    }
   ],
   "source": [
    "forward(np.array([1, 0]), True)"
   ]
  },
  {
   "cell_type": "code",
   "execution_count": 466,
   "metadata": {},
   "outputs": [
    {
     "data": {
      "text/plain": [
       "array([[0.0006142]])"
      ]
     },
     "execution_count": 466,
     "metadata": {},
     "output_type": "execute_result"
    }
   ],
   "source": [
    "forward(np.array([1, 1]), True)"
   ]
  }
 ],
 "metadata": {
  "kernelspec": {
   "display_name": "Python 3 (ipykernel)",
   "language": "python",
   "name": "python3"
  },
  "language_info": {
   "codemirror_mode": {
    "name": "ipython",
    "version": 3
   },
   "file_extension": ".py",
   "mimetype": "text/x-python",
   "name": "python",
   "nbconvert_exporter": "python",
   "pygments_lexer": "ipython3",
   "version": "3.12.2"
  }
 },
 "nbformat": 4,
 "nbformat_minor": 2
}
